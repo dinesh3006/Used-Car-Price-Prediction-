{
 "cells": [
  {
   "cell_type": "code",
   "execution_count": 1,
   "id": "de893d87",
   "metadata": {},
   "outputs": [],
   "source": [
    "import pandas as pd"
   ]
  },
  {
   "cell_type": "code",
   "execution_count": 2,
   "id": "9f858a68",
   "metadata": {},
   "outputs": [
    {
     "name": "stdout",
     "output_type": "stream",
     "text": [
      "    bodytype  seats     kms  modelYear fueltype  ownerNo transmission   price  \\\n",
      "0  Hatchback      5  120000       2015   Petrol        3       Manual  400000   \n",
      "1        SUV      5   32706       2018   Petrol        2       Manual  811000   \n",
      "2  Hatchback      5   11949       2018   Petrol        1       Manual  585000   \n",
      "3      Sedan      5   17794       2014   Petrol        1       Manual  462000   \n",
      "4        SUV      5   60000       2015   Diesel        1       Manual  790000   \n",
      "\n",
      "       Insurance  engine_cc      oem  Gearbox  Mileage DriveType       city  \\\n",
      "0    Third Party        998   Maruti        5    23.10       FWD  Bangalore   \n",
      "1  Comprehensive       1497     Ford        5    17.00       FWD  Bangalore   \n",
      "2  Comprehensive       1199     Tata        5    23.84       FWD  Bangalore   \n",
      "3  Comprehensive       1197  Hyundai        5    19.10       FWD  Bangalore   \n",
      "4    Third Party       1248   Maruti        5    23.65       FWD  Bangalore   \n",
      "\n",
      "                model  \n",
      "0      Maruti Celerio  \n",
      "1       Ford Ecosport  \n",
      "2          Tata Tiago  \n",
      "3       Hyundai Xcent  \n",
      "4  Maruti SX4 S Cross  \n"
     ]
    }
   ],
   "source": [
    "import pandas as pd\n",
    "\n",
    "# Specify the path to your Excel file\n",
    "data = r\"C:\\Users\\hp\\OneDrive\\Pictures\\guvi certificates\\Car Dheko - Used Car Price Prediction\\structure format\\cars_eda.csv\"\n",
    "\n",
    "# Read the Excel file and display the first few rows\n",
    "car_df = pd.read_csv(data)  # Using openpyxl to read .xlsx files\n",
    "print(car_df.head())\n",
    "#df1_bangalore"
   ]
  },
  {
   "cell_type": "code",
   "execution_count": 3,
   "id": "51c83ac0",
   "metadata": {},
   "outputs": [
    {
     "data": {
      "text/plain": [
       "(6036, 16)"
      ]
     },
     "execution_count": 3,
     "metadata": {},
     "output_type": "execute_result"
    }
   ],
   "source": [
    "car_df.shape"
   ]
  },
  {
   "cell_type": "markdown",
   "id": "40064089",
   "metadata": {},
   "source": [
    "### LABEL ENCODING "
   ]
  },
  {
   "cell_type": "code",
   "execution_count": 4,
   "id": "1ceb3b87",
   "metadata": {},
   "outputs": [
    {
     "data": {
      "text/html": [
       "<div>\n",
       "<style scoped>\n",
       "    .dataframe tbody tr th:only-of-type {\n",
       "        vertical-align: middle;\n",
       "    }\n",
       "\n",
       "    .dataframe tbody tr th {\n",
       "        vertical-align: top;\n",
       "    }\n",
       "\n",
       "    .dataframe thead th {\n",
       "        text-align: right;\n",
       "    }\n",
       "</style>\n",
       "<table border=\"1\" class=\"dataframe\">\n",
       "  <thead>\n",
       "    <tr style=\"text-align: right;\">\n",
       "      <th></th>\n",
       "      <th>bodytype</th>\n",
       "      <th>seats</th>\n",
       "      <th>kms</th>\n",
       "      <th>modelYear</th>\n",
       "      <th>fueltype</th>\n",
       "      <th>ownerNo</th>\n",
       "      <th>transmission</th>\n",
       "      <th>price</th>\n",
       "      <th>Insurance</th>\n",
       "      <th>engine_cc</th>\n",
       "      <th>oem</th>\n",
       "      <th>Gearbox</th>\n",
       "      <th>Mileage</th>\n",
       "      <th>DriveType</th>\n",
       "      <th>city</th>\n",
       "      <th>model</th>\n",
       "    </tr>\n",
       "  </thead>\n",
       "  <tbody>\n",
       "    <tr>\n",
       "      <th>0</th>\n",
       "      <td>Hatchback</td>\n",
       "      <td>5</td>\n",
       "      <td>120000</td>\n",
       "      <td>2015</td>\n",
       "      <td>Petrol</td>\n",
       "      <td>3</td>\n",
       "      <td>Manual</td>\n",
       "      <td>400000</td>\n",
       "      <td>Third Party</td>\n",
       "      <td>998</td>\n",
       "      <td>Maruti</td>\n",
       "      <td>5</td>\n",
       "      <td>23.10</td>\n",
       "      <td>FWD</td>\n",
       "      <td>Bangalore</td>\n",
       "      <td>Maruti Celerio</td>\n",
       "    </tr>\n",
       "    <tr>\n",
       "      <th>1</th>\n",
       "      <td>SUV</td>\n",
       "      <td>5</td>\n",
       "      <td>32706</td>\n",
       "      <td>2018</td>\n",
       "      <td>Petrol</td>\n",
       "      <td>2</td>\n",
       "      <td>Manual</td>\n",
       "      <td>811000</td>\n",
       "      <td>Comprehensive</td>\n",
       "      <td>1497</td>\n",
       "      <td>Ford</td>\n",
       "      <td>5</td>\n",
       "      <td>17.00</td>\n",
       "      <td>FWD</td>\n",
       "      <td>Bangalore</td>\n",
       "      <td>Ford Ecosport</td>\n",
       "    </tr>\n",
       "    <tr>\n",
       "      <th>2</th>\n",
       "      <td>Hatchback</td>\n",
       "      <td>5</td>\n",
       "      <td>11949</td>\n",
       "      <td>2018</td>\n",
       "      <td>Petrol</td>\n",
       "      <td>1</td>\n",
       "      <td>Manual</td>\n",
       "      <td>585000</td>\n",
       "      <td>Comprehensive</td>\n",
       "      <td>1199</td>\n",
       "      <td>Tata</td>\n",
       "      <td>5</td>\n",
       "      <td>23.84</td>\n",
       "      <td>FWD</td>\n",
       "      <td>Bangalore</td>\n",
       "      <td>Tata Tiago</td>\n",
       "    </tr>\n",
       "    <tr>\n",
       "      <th>3</th>\n",
       "      <td>Sedan</td>\n",
       "      <td>5</td>\n",
       "      <td>17794</td>\n",
       "      <td>2014</td>\n",
       "      <td>Petrol</td>\n",
       "      <td>1</td>\n",
       "      <td>Manual</td>\n",
       "      <td>462000</td>\n",
       "      <td>Comprehensive</td>\n",
       "      <td>1197</td>\n",
       "      <td>Hyundai</td>\n",
       "      <td>5</td>\n",
       "      <td>19.10</td>\n",
       "      <td>FWD</td>\n",
       "      <td>Bangalore</td>\n",
       "      <td>Hyundai Xcent</td>\n",
       "    </tr>\n",
       "    <tr>\n",
       "      <th>4</th>\n",
       "      <td>SUV</td>\n",
       "      <td>5</td>\n",
       "      <td>60000</td>\n",
       "      <td>2015</td>\n",
       "      <td>Diesel</td>\n",
       "      <td>1</td>\n",
       "      <td>Manual</td>\n",
       "      <td>790000</td>\n",
       "      <td>Third Party</td>\n",
       "      <td>1248</td>\n",
       "      <td>Maruti</td>\n",
       "      <td>5</td>\n",
       "      <td>23.65</td>\n",
       "      <td>FWD</td>\n",
       "      <td>Bangalore</td>\n",
       "      <td>Maruti SX4 S Cross</td>\n",
       "    </tr>\n",
       "  </tbody>\n",
       "</table>\n",
       "</div>"
      ],
      "text/plain": [
       "    bodytype  seats     kms  modelYear fueltype  ownerNo transmission   price  \\\n",
       "0  Hatchback      5  120000       2015   Petrol        3       Manual  400000   \n",
       "1        SUV      5   32706       2018   Petrol        2       Manual  811000   \n",
       "2  Hatchback      5   11949       2018   Petrol        1       Manual  585000   \n",
       "3      Sedan      5   17794       2014   Petrol        1       Manual  462000   \n",
       "4        SUV      5   60000       2015   Diesel        1       Manual  790000   \n",
       "\n",
       "       Insurance  engine_cc      oem  Gearbox  Mileage DriveType       city  \\\n",
       "0    Third Party        998   Maruti        5    23.10       FWD  Bangalore   \n",
       "1  Comprehensive       1497     Ford        5    17.00       FWD  Bangalore   \n",
       "2  Comprehensive       1199     Tata        5    23.84       FWD  Bangalore   \n",
       "3  Comprehensive       1197  Hyundai        5    19.10       FWD  Bangalore   \n",
       "4    Third Party       1248   Maruti        5    23.65       FWD  Bangalore   \n",
       "\n",
       "                model  \n",
       "0      Maruti Celerio  \n",
       "1       Ford Ecosport  \n",
       "2          Tata Tiago  \n",
       "3       Hyundai Xcent  \n",
       "4  Maruti SX4 S Cross  "
      ]
     },
     "execution_count": 4,
     "metadata": {},
     "output_type": "execute_result"
    }
   ],
   "source": [
    "car_df.head()"
   ]
  },
  {
   "cell_type": "markdown",
   "id": "36ad4438",
   "metadata": {},
   "source": [
    "# bodytype"
   ]
  },
  {
   "cell_type": "code",
   "execution_count": 5,
   "id": "c64851bb",
   "metadata": {},
   "outputs": [
    {
     "name": "stdout",
     "output_type": "stream",
     "text": [
      "0: Hatchback -> 0\n",
      "1: SUV -> 2\n",
      "3: Sedan -> 3\n",
      "538: Minivans -> 1\n",
      "2446: Wagon -> 4\n"
     ]
    }
   ],
   "source": [
    "from sklearn.preprocessing import LabelEncoder\n",
    "le = LabelEncoder()\n",
    "# Fit and transform the categorical data\n",
    "car_df['bodytype_encoded1'] = le.fit_transform(car_df['bodytype'])\n",
    "# Display the encoded values using a for loop\n",
    "d_bodytype={}\n",
    "for  idx, (category, encoded) in enumerate(zip(car_df['bodytype'], car_df['bodytype_encoded1'])):\n",
    "    if(category in d_bodytype.keys()):\n",
    "        continue\n",
    "    d_bodytype[category]=encoded\n",
    "    print(f\"{idx}: {category} -> {encoded}\")"
   ]
  },
  {
   "cell_type": "markdown",
   "id": "f8bc08aa",
   "metadata": {},
   "source": [
    "# fueltype"
   ]
  },
  {
   "cell_type": "code",
   "execution_count": 6,
   "id": "7f093f8a",
   "metadata": {},
   "outputs": [
    {
     "name": "stdout",
     "output_type": "stream",
     "text": [
      "0: Petrol -> 3\n",
      "4: Diesel -> 1\n",
      "21: LPG -> 2\n",
      "173: CNG -> 0\n"
     ]
    }
   ],
   "source": [
    "le = LabelEncoder()\n",
    "# Fit and transform the categorical data\n",
    "car_df['fueltype_encoded1'] = le.fit_transform(car_df['fueltype'])\n",
    "# Display the encoded values using a for loop\n",
    "d_fueltype={}\n",
    "for  idx, (category, encoded) in enumerate(zip(car_df['fueltype'], car_df['fueltype_encoded1'])):\n",
    "    if(category in d_fueltype.keys()):\n",
    "        continue\n",
    "    d_fueltype[category]=encoded\n",
    "    print(f\"{idx}: {category} -> {encoded}\")"
   ]
  },
  {
   "cell_type": "markdown",
   "id": "303c947e",
   "metadata": {},
   "source": [
    "# trasmission"
   ]
  },
  {
   "cell_type": "code",
   "execution_count": 7,
   "id": "5c4a1f49",
   "metadata": {},
   "outputs": [
    {
     "name": "stdout",
     "output_type": "stream",
     "text": [
      "0: Manual -> 1\n",
      "6: Automatic -> 0\n"
     ]
    }
   ],
   "source": [
    "le = LabelEncoder()\n",
    "# Fit and transform the categorical data\n",
    "car_df['transmission_encoded1'] = le.fit_transform(car_df['transmission'])\n",
    "# Display the encoded values using a for loop\n",
    "d_transmission={}\n",
    "for  idx, (category, encoded) in enumerate(zip(car_df['transmission'], car_df['transmission_encoded1'])):\n",
    "    if(category in d_transmission.keys()):\n",
    "        continue\n",
    "    d_transmission[category]=encoded\n",
    "    print(f\"{idx}: {category} -> {encoded}\")"
   ]
  },
  {
   "cell_type": "markdown",
   "id": "c5af2471",
   "metadata": {},
   "source": [
    "# Insurance"
   ]
  },
  {
   "cell_type": "code",
   "execution_count": 8,
   "id": "59be43b3",
   "metadata": {},
   "outputs": [
    {
     "name": "stdout",
     "output_type": "stream",
     "text": [
      "0: Third Party -> 2\n",
      "1: Comprehensive -> 0\n",
      "28: Zero Dep -> 3\n",
      "971: Not Available -> 1\n"
     ]
    }
   ],
   "source": [
    "le = LabelEncoder()\n",
    "# Fit and transform the categorical data\n",
    "car_df['Insurance_encoded1'] = le.fit_transform(car_df['Insurance'])\n",
    "# Display the encoded values using a for loop\n",
    "d_Insurance={}\n",
    "for  idx, (category, encoded) in enumerate(zip(car_df['Insurance'], car_df['Insurance_encoded1'])):\n",
    "    if(category in d_Insurance.keys()):\n",
    "        continue\n",
    "    d_Insurance[category]=encoded\n",
    "    print(f\"{idx}: {category} -> {encoded}\")"
   ]
  },
  {
   "cell_type": "markdown",
   "id": "10b3cb8e",
   "metadata": {},
   "source": [
    "# oem"
   ]
  },
  {
   "cell_type": "code",
   "execution_count": 9,
   "id": "db2c06e2",
   "metadata": {},
   "outputs": [
    {
     "name": "stdout",
     "output_type": "stream",
     "text": [
      "0: Maruti -> 12\n",
      "1: Ford -> 5\n",
      "2: Tata -> 18\n",
      "3: Hyundai -> 7\n",
      "5: Datsun -> 3\n",
      "11: Honda -> 6\n",
      "17: Renault -> 16\n",
      "32: Kia -> 9\n",
      "40: Skoda -> 17\n",
      "52: Volkswagen -> 20\n",
      "60: Mahindra -> 11\n",
      "69: Toyota -> 19\n",
      "95: Nissan -> 15\n",
      "129: Fiat -> 4\n",
      "172: MG -> 10\n",
      "264: Audi -> 0\n",
      "341: Mercedes-Benz -> 13\n",
      "393: Jeep -> 8\n",
      "476: Chevrolet -> 1\n",
      "603: Citroen -> 2\n",
      "1656: Mini -> 14\n"
     ]
    }
   ],
   "source": [
    "#from sklearn.preprocessing import LabelEncoder\n",
    "le = LabelEncoder()\n",
    "# Fit and transform the categorical data\n",
    "car_df['oem_encoded1'] = le.fit_transform(car_df['oem'])\n",
    "# Display the encoded values using a for loop\n",
    "d_oem={}\n",
    "for  idx, (category, encoded) in enumerate(zip(car_df['oem'], car_df['oem_encoded1'])):\n",
    "    if(category in d_oem.keys()):\n",
    "        continue\n",
    "    d_oem[category]=encoded\n",
    "    print(f\"{idx}: {category} -> {encoded}\")"
   ]
  },
  {
   "cell_type": "markdown",
   "id": "2e103822",
   "metadata": {},
   "source": [
    "# Drivetype"
   ]
  },
  {
   "cell_type": "code",
   "execution_count": 10,
   "id": "99f328ff",
   "metadata": {},
   "outputs": [
    {
     "name": "stdout",
     "output_type": "stream",
     "text": [
      "0: FWD -> 2\n",
      "221: RWD -> 3\n",
      "393: 4WD -> 0\n",
      "998: AWD -> 1\n"
     ]
    }
   ],
   "source": [
    "le = LabelEncoder()\n",
    "# Fit and transform the categorical data\n",
    "car_df['DriveType_encoded1'] = le.fit_transform(car_df['DriveType'])\n",
    "# Display the encoded values using a for loop\n",
    "d_drivetype={}\n",
    "for  idx, (category, encoded) in enumerate(zip(car_df['DriveType'], car_df['DriveType_encoded1'])):\n",
    "    if(category in d_drivetype.keys()):\n",
    "        continue\n",
    "    d_drivetype[category]=encoded\n",
    "    print(f\"{idx}: {category} -> {encoded}\")"
   ]
  },
  {
   "cell_type": "markdown",
   "id": "ac8e8f8b",
   "metadata": {},
   "source": [
    "# city"
   ]
  },
  {
   "cell_type": "code",
   "execution_count": 11,
   "id": "36690e2d",
   "metadata": {},
   "outputs": [
    {
     "name": "stdout",
     "output_type": "stream",
     "text": [
      "0: Bangalore -> 0\n",
      "1062: Chennai -> 1\n",
      "2118: Delhi -> 2\n",
      "3091: Hyderabad -> 3\n",
      "4220: Jaipur -> 4\n",
      "5013: Kolkata -> 5\n"
     ]
    }
   ],
   "source": [
    "le = LabelEncoder()\n",
    "# Fit and transform the categorical data\n",
    "car_df['city_encoded1'] = le.fit_transform(car_df['city'])\n",
    "# Display the encoded values using a for loop\n",
    "d_city={}\n",
    "for  idx, (category, encoded) in enumerate(zip(car_df['city'], car_df['city_encoded1'])):\n",
    "    if(category in d_city.keys()):\n",
    "        continue\n",
    "    d_city[category]=encoded\n",
    "    print(f\"{idx}: {category} -> {encoded}\")"
   ]
  },
  {
   "cell_type": "markdown",
   "id": "91593efa",
   "metadata": {},
   "source": [
    "# model"
   ]
  },
  {
   "cell_type": "code",
   "execution_count": 12,
   "id": "97d69583",
   "metadata": {},
   "outputs": [
    {
     "name": "stdout",
     "output_type": "stream",
     "text": [
      "0: Maruti Celerio -> 66\n",
      "1: Ford Ecosport -> 20\n",
      "2: Tata Tiago -> 120\n",
      "3: Hyundai Xcent -> 43\n",
      "4: Maruti SX4 S Cross -> 79\n",
      "5: Datsun GO -> 8\n",
      "6: Hyundai Venue -> 41\n",
      "7: Maruti Ciaz -> 69\n",
      "9: Maruti Baleno -> 63\n",
      "10: Hyundai Grand i10 -> 37\n",
      "11: Honda Jazz -> 29\n",
      "13: Hyundai i20 -> 46\n",
      "14: Tata Nexon -> 118\n",
      "15: Honda City -> 27\n",
      "16: Maruti Swift -> 80\n",
      "17: Renault Duster -> 99\n",
      "20: Hyundai Santro -> 39\n",
      "21: Hyundai Santro Xing -> 40\n",
      "23: Maruti Wagon R -> 84\n",
      "29: Hyundai Elantra -> 35\n",
      "30: Maruti Alto 800 -> 61\n",
      "32: Kia Seltos -> 50\n",
      "34: Maruti Alto -> 60\n",
      "37: Renault KWID -> 101\n",
      "40: Skoda Rapid -> 109\n",
      "43: Hyundai Creta -> 33\n",
      "49: Maruti Ritz -> 76\n",
      "52: Volkswagen Polo -> 134\n",
      "58: Hyundai i10 -> 45\n",
      "60: Mahindra XUV300 -> 58\n",
      "61: Honda Brio -> 26\n",
      "63: Maruti Alto K10 -> 62\n",
      "64: Renault Kiger -> 102\n",
      "67: Hyundai EON -> 34\n",
      "68: Volkswagen Vento -> 136\n",
      "69: Toyota Yaris -> 130\n",
      "83: Ford Figo -> 23\n",
      "84: Maruti Ignis -> 75\n",
      "92: Hyundai Verna -> 42\n",
      "95: Nissan Terrano -> 97\n",
      "107: Maruti Baleno RS -> 64\n",
      "109: Renault Captur -> 98\n",
      "110: Maruti Vitara Brezza -> 83\n",
      "118: Maruti Swift Dzire -> 81\n",
      "129: Fiat Linea -> 13\n",
      "131: Hyundai i20 Active -> 47\n",
      "140: Honda WR-V -> 30\n",
      "146: Toyota Corolla Altis -> 124\n",
      "164: Skoda Kushaq -> 106\n",
      "168: Volkswagen Taigun -> 135\n",
      "172: MG Astor -> 52\n",
      "173: Hyundai Accent -> 31\n",
      "216: Skoda Laura -> 107\n",
      "259: Kia Sonet -> 51\n",
      "264: Audi A4 -> 0\n",
      "266: Mahindra Verito -> 57\n",
      "269: Maruti S-Presso -> 77\n",
      "275: Volkswagen Jetta -> 133\n",
      "285: Datsun RediGO -> 9\n",
      "288: Ford Aspire -> 19\n",
      "299: Ford Freestyle -> 24\n",
      "318: Tata Tigor -> 122\n",
      "341: Mercedes-Benz A Class -> 87\n",
      "344: Toyota Glanza -> 128\n",
      "349: Nissan Magnite -> 93\n",
      "375: Maruti Celerio X -> 68\n",
      "384: Toyota Urban cruiser -> 129\n",
      "393: Jeep Compass -> 49\n",
      "434: Tata Altroz -> 112\n",
      "437: Tata Indica V2 -> 115\n",
      "447: Volkswagen Ameo -> 131\n",
      "473: Fiat Punto Abarth -> 16\n",
      "476: Chevrolet Beat -> 3\n",
      "501: Hyundai Grand i10 Nios -> 38\n",
      "538: Maruti Eeco -> 70\n",
      "550: Tata Zest -> 123\n",
      "561: Maruti SX4 -> 78\n",
      "577: Hyundai i20 N Line -> 48\n",
      "586: Mahindra Renault Logan -> 56\n",
      "603: Citroen C3 -> 7\n",
      "609: Honda Amaze -> 25\n",
      "631: MG Hector -> 53\n",
      "634: Tata Manza -> 117\n",
      "646: Nissan Micra Active -> 95\n",
      "647: Ford Fiesta -> 21\n",
      "660: Skoda Superb -> 111\n",
      "662: Fiat Punto -> 15\n",
      "703: Skoda Slavia -> 110\n",
      "737: Tata Indigo -> 116\n",
      "739: Skoda Fabia -> 105\n",
      "752: Nissan Sunny -> 96\n",
      "808: Fiat Palio -> 14\n",
      "809: Toyota Etios -> 125\n",
      "826: Chevrolet Spark -> 6\n",
      "829: Maruti Estilo -> 72\n",
      "878: Skoda Octavia -> 108\n",
      "999: Nissan Micra -> 94\n",
      "1020: Fiat Punto EVO -> 17\n",
      "1043: Renault Fluence -> 100\n",
      "1067: Maruti A-Star -> 59\n",
      "1091: Maruti Esteem -> 71\n",
      "1100: Chevrolet Sail -> 5\n",
      "1175: Honda Civic -> 28\n",
      "1353: Hyundai Aura -> 32\n",
      "1454: Tata Punch -> 119\n",
      "1540: Tata Tiago NRG -> 121\n",
      "1647: Maruti Wagon R Stingray -> 85\n",
      "1656: Mini 5 DOOR -> 91\n",
      "1667: Fiat Grande Punto -> 12\n",
      "1711: Chevrolet Aveo -> 1\n",
      "1722: Mercedes-Benz C-Class -> 89\n",
      "1768: Tata Indica -> 114\n",
      "1784: Maruti Zen Estilo -> 86\n",
      "1807: Toyota Etios Liva -> 127\n",
      "1906: Fiat Punto Pure -> 18\n",
      "2057: Volkswagen Virtus -> 137\n",
      "2101: Nissan Kicks -> 92\n",
      "2159: Maruti Brezza -> 65\n",
      "2223: Toyota Etios Cross -> 126\n",
      "2319: Maruti Swift Dzire Tour -> 82\n",
      "2587: Mercedes-Benz E-Class -> 90\n",
      "2588: Mahindra KUV 100 NXT -> 55\n",
      "2671: Chevrolet Optra -> 4\n",
      "2927: Ford Fiesta Classic -> 22\n",
      "2961: Maruti FRONX -> 73\n",
      "2986: Maruti Celerio Tour 2018-2021 -> 67\n",
      "3166: Maruti Grand Vitara -> 74\n",
      "3545: Fiat Avventura -> 11\n",
      "3752: Mahindra KUV 100 -> 54\n",
      "3858: Tata Bolt -> 113\n",
      "3924: Hyundai Xcent Prime -> 44\n",
      "3970: Fiat Abarth Avventura -> 10\n",
      "4024: Hyundai Getz -> 36\n",
      "4135: Mercedes-Benz B Class -> 88\n",
      "4362: Renault Scala -> 104\n",
      "4477: Chevrolet Aveo U-VA -> 2\n",
      "4967: Renault Pulse -> 103\n",
      "4986: Volkswagen CrossPolo -> 132\n"
     ]
    }
   ],
   "source": [
    "le = LabelEncoder()\n",
    "# Fit and transform the categorical data\n",
    "car_df['model_encoded1'] = le.fit_transform(car_df['model'])\n",
    "# Display the encoded values using a for loop\n",
    "d_city={}\n",
    "for  idx, (category, encoded) in enumerate(zip(car_df['model'], car_df['model_encoded1'])):\n",
    "    if(category in d_city.keys()):\n",
    "        continue\n",
    "    d_city[category]=encoded\n",
    "    print(f\"{idx}: {category} -> {encoded}\")"
   ]
  },
  {
   "cell_type": "code",
   "execution_count": null,
   "id": "a8459723",
   "metadata": {},
   "outputs": [],
   "source": [
    "import datetime\n",
    "# --- 1. Create the 'Age' Feature ---\n",
    "print(\"Creating 'modelYr' feature...\")\n",
    "current_year = datetime.datetime.now().year\n",
    "car_df['modelYr'] = current_year - car_df['modelYear']"
   ]
  },
  {
   "cell_type": "code",
   "execution_count": null,
   "id": "889db4f7",
   "metadata": {},
   "outputs": [],
   "source": []
  },
  {
   "cell_type": "code",
   "execution_count": 14,
   "id": "a3521c98",
   "metadata": {},
   "outputs": [
    {
     "data": {
      "text/html": [
       "<div>\n",
       "<style scoped>\n",
       "    .dataframe tbody tr th:only-of-type {\n",
       "        vertical-align: middle;\n",
       "    }\n",
       "\n",
       "    .dataframe tbody tr th {\n",
       "        vertical-align: top;\n",
       "    }\n",
       "\n",
       "    .dataframe thead th {\n",
       "        text-align: right;\n",
       "    }\n",
       "</style>\n",
       "<table border=\"1\" class=\"dataframe\">\n",
       "  <thead>\n",
       "    <tr style=\"text-align: right;\">\n",
       "      <th></th>\n",
       "      <th>bodytype</th>\n",
       "      <th>seats</th>\n",
       "      <th>kms</th>\n",
       "      <th>modelYear</th>\n",
       "      <th>fueltype</th>\n",
       "      <th>ownerNo</th>\n",
       "      <th>transmission</th>\n",
       "      <th>price</th>\n",
       "      <th>Insurance</th>\n",
       "      <th>engine_cc</th>\n",
       "      <th>...</th>\n",
       "      <th>model</th>\n",
       "      <th>bodytype_encoded1</th>\n",
       "      <th>fueltype_encoded1</th>\n",
       "      <th>transmission_encoded1</th>\n",
       "      <th>Insurance_encoded1</th>\n",
       "      <th>oem_encoded1</th>\n",
       "      <th>DriveType_encoded1</th>\n",
       "      <th>city_encoded1</th>\n",
       "      <th>model_encoded1</th>\n",
       "      <th>modelYr</th>\n",
       "    </tr>\n",
       "  </thead>\n",
       "  <tbody>\n",
       "    <tr>\n",
       "      <th>0</th>\n",
       "      <td>Hatchback</td>\n",
       "      <td>5</td>\n",
       "      <td>120000</td>\n",
       "      <td>2015</td>\n",
       "      <td>Petrol</td>\n",
       "      <td>3</td>\n",
       "      <td>Manual</td>\n",
       "      <td>400000</td>\n",
       "      <td>Third Party</td>\n",
       "      <td>998</td>\n",
       "      <td>...</td>\n",
       "      <td>Maruti Celerio</td>\n",
       "      <td>0</td>\n",
       "      <td>3</td>\n",
       "      <td>1</td>\n",
       "      <td>2</td>\n",
       "      <td>12</td>\n",
       "      <td>2</td>\n",
       "      <td>0</td>\n",
       "      <td>66</td>\n",
       "      <td>10</td>\n",
       "    </tr>\n",
       "    <tr>\n",
       "      <th>1</th>\n",
       "      <td>SUV</td>\n",
       "      <td>5</td>\n",
       "      <td>32706</td>\n",
       "      <td>2018</td>\n",
       "      <td>Petrol</td>\n",
       "      <td>2</td>\n",
       "      <td>Manual</td>\n",
       "      <td>811000</td>\n",
       "      <td>Comprehensive</td>\n",
       "      <td>1497</td>\n",
       "      <td>...</td>\n",
       "      <td>Ford Ecosport</td>\n",
       "      <td>2</td>\n",
       "      <td>3</td>\n",
       "      <td>1</td>\n",
       "      <td>0</td>\n",
       "      <td>5</td>\n",
       "      <td>2</td>\n",
       "      <td>0</td>\n",
       "      <td>20</td>\n",
       "      <td>7</td>\n",
       "    </tr>\n",
       "    <tr>\n",
       "      <th>2</th>\n",
       "      <td>Hatchback</td>\n",
       "      <td>5</td>\n",
       "      <td>11949</td>\n",
       "      <td>2018</td>\n",
       "      <td>Petrol</td>\n",
       "      <td>1</td>\n",
       "      <td>Manual</td>\n",
       "      <td>585000</td>\n",
       "      <td>Comprehensive</td>\n",
       "      <td>1199</td>\n",
       "      <td>...</td>\n",
       "      <td>Tata Tiago</td>\n",
       "      <td>0</td>\n",
       "      <td>3</td>\n",
       "      <td>1</td>\n",
       "      <td>0</td>\n",
       "      <td>18</td>\n",
       "      <td>2</td>\n",
       "      <td>0</td>\n",
       "      <td>120</td>\n",
       "      <td>7</td>\n",
       "    </tr>\n",
       "    <tr>\n",
       "      <th>3</th>\n",
       "      <td>Sedan</td>\n",
       "      <td>5</td>\n",
       "      <td>17794</td>\n",
       "      <td>2014</td>\n",
       "      <td>Petrol</td>\n",
       "      <td>1</td>\n",
       "      <td>Manual</td>\n",
       "      <td>462000</td>\n",
       "      <td>Comprehensive</td>\n",
       "      <td>1197</td>\n",
       "      <td>...</td>\n",
       "      <td>Hyundai Xcent</td>\n",
       "      <td>3</td>\n",
       "      <td>3</td>\n",
       "      <td>1</td>\n",
       "      <td>0</td>\n",
       "      <td>7</td>\n",
       "      <td>2</td>\n",
       "      <td>0</td>\n",
       "      <td>43</td>\n",
       "      <td>11</td>\n",
       "    </tr>\n",
       "    <tr>\n",
       "      <th>4</th>\n",
       "      <td>SUV</td>\n",
       "      <td>5</td>\n",
       "      <td>60000</td>\n",
       "      <td>2015</td>\n",
       "      <td>Diesel</td>\n",
       "      <td>1</td>\n",
       "      <td>Manual</td>\n",
       "      <td>790000</td>\n",
       "      <td>Third Party</td>\n",
       "      <td>1248</td>\n",
       "      <td>...</td>\n",
       "      <td>Maruti SX4 S Cross</td>\n",
       "      <td>2</td>\n",
       "      <td>1</td>\n",
       "      <td>1</td>\n",
       "      <td>2</td>\n",
       "      <td>12</td>\n",
       "      <td>2</td>\n",
       "      <td>0</td>\n",
       "      <td>79</td>\n",
       "      <td>10</td>\n",
       "    </tr>\n",
       "  </tbody>\n",
       "</table>\n",
       "<p>5 rows × 25 columns</p>\n",
       "</div>"
      ],
      "text/plain": [
       "    bodytype  seats     kms  modelYear fueltype  ownerNo transmission   price  \\\n",
       "0  Hatchback      5  120000       2015   Petrol        3       Manual  400000   \n",
       "1        SUV      5   32706       2018   Petrol        2       Manual  811000   \n",
       "2  Hatchback      5   11949       2018   Petrol        1       Manual  585000   \n",
       "3      Sedan      5   17794       2014   Petrol        1       Manual  462000   \n",
       "4        SUV      5   60000       2015   Diesel        1       Manual  790000   \n",
       "\n",
       "       Insurance  engine_cc  ...               model  bodytype_encoded1  \\\n",
       "0    Third Party        998  ...      Maruti Celerio                  0   \n",
       "1  Comprehensive       1497  ...       Ford Ecosport                  2   \n",
       "2  Comprehensive       1199  ...          Tata Tiago                  0   \n",
       "3  Comprehensive       1197  ...       Hyundai Xcent                  3   \n",
       "4    Third Party       1248  ...  Maruti SX4 S Cross                  2   \n",
       "\n",
       "   fueltype_encoded1 transmission_encoded1 Insurance_encoded1 oem_encoded1  \\\n",
       "0                  3                     1                  2           12   \n",
       "1                  3                     1                  0            5   \n",
       "2                  3                     1                  0           18   \n",
       "3                  3                     1                  0            7   \n",
       "4                  1                     1                  2           12   \n",
       "\n",
       "   DriveType_encoded1  city_encoded1  model_encoded1  modelYr  \n",
       "0                   2              0              66       10  \n",
       "1                   2              0              20        7  \n",
       "2                   2              0             120        7  \n",
       "3                   2              0              43       11  \n",
       "4                   2              0              79       10  \n",
       "\n",
       "[5 rows x 25 columns]"
      ]
     },
     "execution_count": 14,
     "metadata": {},
     "output_type": "execute_result"
    }
   ],
   "source": [
    "car_df.head()"
   ]
  },
  {
   "cell_type": "code",
   "execution_count": 15,
   "id": "372608dc",
   "metadata": {},
   "outputs": [
    {
     "data": {
      "text/plain": [
       "(6036, 25)"
      ]
     },
     "execution_count": 15,
     "metadata": {},
     "output_type": "execute_result"
    }
   ],
   "source": [
    "car_df.shape"
   ]
  },
  {
   "cell_type": "markdown",
   "id": "bcd05978",
   "metadata": {},
   "source": [
    "### NEW FEATURE"
   ]
  },
  {
   "cell_type": "code",
   "execution_count": 16,
   "id": "cbe26723",
   "metadata": {},
   "outputs": [],
   "source": [
    "new_feature = ['Gearbox','Year of Manufacture','modelYr','kms driven',\n",
    "'Mileage','owner','seats','Registration Year','Engine Displacement',\n",
    "'city_encoded1','oem_encoded1','bodytype_encoded1','fueltype_encoded1',\n",
    "'transmission_encoded1','DriveType_encoded1','Insurance_encoded1','model_encoded1']"
   ]
  },
  {
   "cell_type": "code",
   "execution_count": 17,
   "id": "308a38e7",
   "metadata": {},
   "outputs": [
    {
     "data": {
      "text/plain": [
       "17"
      ]
     },
     "execution_count": 17,
     "metadata": {},
     "output_type": "execute_result"
    }
   ],
   "source": [
    "len(new_feature)"
   ]
  },
  {
   "cell_type": "code",
   "execution_count": 18,
   "id": "1c192078",
   "metadata": {},
   "outputs": [],
   "source": [
    "numerical_columns = ['seats', 'kms', 'modelYr', 'ownerNo', 'engine_cc', 'Gearbox',\n",
    "       'Mileage']\n",
    "\n",
    "categorical_columns =['bodytype', 'fueltype', 'transmission', 'Insurance', 'oem', 'DriveType',\n",
    "       'city','model']"
   ]
  },
  {
   "cell_type": "code",
   "execution_count": 19,
   "id": "2b0df533",
   "metadata": {},
   "outputs": [
    {
     "data": {
      "text/plain": [
       "['seats', 'kms', 'modelYr', 'ownerNo', 'engine_cc', 'Gearbox', 'Mileage']"
      ]
     },
     "execution_count": 19,
     "metadata": {},
     "output_type": "execute_result"
    }
   ],
   "source": [
    "numerical_columns"
   ]
  },
  {
   "cell_type": "code",
   "execution_count": 20,
   "id": "32ae1b52",
   "metadata": {},
   "outputs": [
    {
     "data": {
      "text/plain": [
       "['bodytype',\n",
       " 'fueltype',\n",
       " 'transmission',\n",
       " 'Insurance',\n",
       " 'oem',\n",
       " 'DriveType',\n",
       " 'city',\n",
       " 'model']"
      ]
     },
     "execution_count": 20,
     "metadata": {},
     "output_type": "execute_result"
    }
   ],
   "source": [
    "categorical_columns"
   ]
  },
  {
   "cell_type": "markdown",
   "id": "e5ae55b4",
   "metadata": {},
   "source": [
    "# Model Development"
   ]
  },
  {
   "cell_type": "markdown",
   "id": "ede2b6ec",
   "metadata": {},
   "source": [
    "### TRAIN TEST SPLITTING OF DATA"
   ]
  },
  {
   "cell_type": "code",
   "execution_count": 21,
   "id": "c588aa40",
   "metadata": {},
   "outputs": [],
   "source": [
    "from sklearn.model_selection import train_test_split\n",
    "from sklearn.ensemble import RandomForestRegressor\n",
    "from sklearn.metrics import mean_squared_error\n",
    "import pandas as pd\n",
    "from sklearn.preprocessing import MinMaxScaler, LabelEncoder, OneHotEncoder\n",
    "from sklearn.model_selection import train_test_split\n",
    "from sklearn.preprocessing import LabelEncoder\n",
    "from sklearn.metrics import r2_score\n",
    "X = car_df[numerical_columns + categorical_columns]\n",
    "y = car_df['price']"
   ]
  },
  {
   "cell_type": "code",
   "execution_count": 22,
   "id": "8f03584f",
   "metadata": {},
   "outputs": [],
   "source": [
    "categorical_columns_label = ['bodytype']  # Columns to label encode\n",
    "categorical_columns_one_hot = ['fueltype', 'transmission', 'Insurance', 'oem', 'DriveType', 'city','model']  # Columns to one-hot encode\n",
    "numerical_columns = ['seats', 'kms', 'modelYr', 'ownerNo', 'engine_cc', 'Gearbox', 'Mileage']  # Numerical columns to scale"
   ]
  },
  {
   "cell_type": "markdown",
   "id": "93eaf966",
   "metadata": {},
   "source": [
    "### Label Encoding for Bodytype"
   ]
  },
  {
   "cell_type": "code",
   "execution_count": 23,
   "id": "9f96092f",
   "metadata": {},
   "outputs": [
    {
     "name": "stderr",
     "output_type": "stream",
     "text": [
      "C:\\Users\\hp\\AppData\\Local\\Temp\\ipykernel_9192\\3347631989.py:4: SettingWithCopyWarning: \n",
      "A value is trying to be set on a copy of a slice from a DataFrame.\n",
      "Try using .loc[row_indexer,col_indexer] = value instead\n",
      "\n",
      "See the caveats in the documentation: https://pandas.pydata.org/pandas-docs/stable/user_guide/indexing.html#returning-a-view-versus-a-copy\n",
      "  X[column] = le.fit_transform(X[column])  # Apply Label Encoding\n"
     ]
    }
   ],
   "source": [
    "label_encoders = {}\n",
    "for column in categorical_columns_label:\n",
    "    le = LabelEncoder()\n",
    "    X[column] = le.fit_transform(X[column])  # Apply Label Encoding\n",
    "    label_encoders[column] = le  # Store the encoder if needed later"
   ]
  },
  {
   "cell_type": "code",
   "execution_count": 24,
   "id": "9bbf8e8c",
   "metadata": {},
   "outputs": [
    {
     "data": {
      "text/plain": [
       "['bodytype_label_encoder.pkl']"
      ]
     },
     "execution_count": 24,
     "metadata": {},
     "output_type": "execute_result"
    }
   ],
   "source": [
    "import joblib\n",
    "\n",
    "# 'label_encoders' is the dictionary you created\n",
    "# We save the specific encoder for the 'bodytype' column\n",
    "joblib.dump(label_encoders['bodytype'], 'bodytype_label_encoder.pkl')"
   ]
  },
  {
   "cell_type": "code",
   "execution_count": 25,
   "id": "3e3933aa",
   "metadata": {},
   "outputs": [],
   "source": [
    "one_hot_encoder = OneHotEncoder(drop='first', sparse_output=False)\n",
    "X_encoded = pd.DataFrame(one_hot_encoder.fit_transform(X[categorical_columns_one_hot]))\n",
    "X_encoded.columns = one_hot_encoder.get_feature_names_out(categorical_columns_one_hot)  # Naming the columns\n",
    "\n",
    "# Drop original one-hot columns and concatenate encoded columns\n",
    "X = X.drop(columns=categorical_columns_one_hot).reset_index(drop=True)\n",
    "X = pd.concat([X, X_encoded], axis=1)"
   ]
  },
  {
   "cell_type": "code",
   "execution_count": 26,
   "id": "3043036e",
   "metadata": {},
   "outputs": [
    {
     "data": {
      "text/plain": [
       "['one_hot_encoder.pkl']"
      ]
     },
     "execution_count": 26,
     "metadata": {},
     "output_type": "execute_result"
    }
   ],
   "source": [
    "import joblib\n",
    "# 'one_hot_encoder' is the object you fit to your data\n",
    "joblib.dump(one_hot_encoder, 'one_hot_encoder.pkl')"
   ]
  },
  {
   "cell_type": "markdown",
   "id": "605df46f",
   "metadata": {},
   "source": [
    "### SCALING"
   ]
  },
  {
   "cell_type": "code",
   "execution_count": 27,
   "id": "fc106f92",
   "metadata": {},
   "outputs": [],
   "source": [
    "from sklearn.preprocessing import MinMaxScaler, LabelEncoder\n",
    "# Scale numerical columns\n",
    "scaler = MinMaxScaler()\n",
    "X[numerical_columns] = scaler.fit_transform(X[numerical_columns])"
   ]
  },
  {
   "cell_type": "code",
   "execution_count": 28,
   "id": "176a6285",
   "metadata": {},
   "outputs": [
    {
     "data": {
      "text/plain": [
       "((4225, 180), (1811, 180), (4225,), (1811,))"
      ]
     },
     "execution_count": 28,
     "metadata": {},
     "output_type": "execute_result"
    }
   ],
   "source": [
    "X_train, X_test, y_train, y_test = train_test_split(X, y, test_size=0.3, random_state=42)\n",
    "X_train.shape, X_test.shape, y_train.shape, y_test.shape"
   ]
  },
  {
   "cell_type": "code",
   "execution_count": 29,
   "id": "6e10e0dd",
   "metadata": {},
   "outputs": [
    {
     "data": {
      "text/html": [
       "<div>\n",
       "<style scoped>\n",
       "    .dataframe tbody tr th:only-of-type {\n",
       "        vertical-align: middle;\n",
       "    }\n",
       "\n",
       "    .dataframe tbody tr th {\n",
       "        vertical-align: top;\n",
       "    }\n",
       "\n",
       "    .dataframe thead th {\n",
       "        text-align: right;\n",
       "    }\n",
       "</style>\n",
       "<table border=\"1\" class=\"dataframe\">\n",
       "  <thead>\n",
       "    <tr style=\"text-align: right;\">\n",
       "      <th></th>\n",
       "      <th>seats</th>\n",
       "      <th>kms</th>\n",
       "      <th>modelYr</th>\n",
       "      <th>ownerNo</th>\n",
       "      <th>engine_cc</th>\n",
       "      <th>Gearbox</th>\n",
       "      <th>Mileage</th>\n",
       "      <th>bodytype</th>\n",
       "      <th>fueltype_Diesel</th>\n",
       "      <th>fueltype_LPG</th>\n",
       "      <th>...</th>\n",
       "      <th>model_Toyota Glanza</th>\n",
       "      <th>model_Toyota Urban cruiser</th>\n",
       "      <th>model_Toyota Yaris</th>\n",
       "      <th>model_Volkswagen Ameo</th>\n",
       "      <th>model_Volkswagen CrossPolo</th>\n",
       "      <th>model_Volkswagen Jetta</th>\n",
       "      <th>model_Volkswagen Polo</th>\n",
       "      <th>model_Volkswagen Taigun</th>\n",
       "      <th>model_Volkswagen Vento</th>\n",
       "      <th>model_Volkswagen Virtus</th>\n",
       "    </tr>\n",
       "  </thead>\n",
       "  <tbody>\n",
       "    <tr>\n",
       "      <th>5238</th>\n",
       "      <td>0.0</td>\n",
       "      <td>0.238816</td>\n",
       "      <td>0.6250</td>\n",
       "      <td>0.333333</td>\n",
       "      <td>0.366274</td>\n",
       "      <td>0.333333</td>\n",
       "      <td>0.464824</td>\n",
       "      <td>3</td>\n",
       "      <td>0.0</td>\n",
       "      <td>0.0</td>\n",
       "      <td>...</td>\n",
       "      <td>0.0</td>\n",
       "      <td>0.0</td>\n",
       "      <td>0.0</td>\n",
       "      <td>0.0</td>\n",
       "      <td>0.0</td>\n",
       "      <td>0.0</td>\n",
       "      <td>0.0</td>\n",
       "      <td>0.0</td>\n",
       "      <td>0.0</td>\n",
       "      <td>0.0</td>\n",
       "    </tr>\n",
       "    <tr>\n",
       "      <th>376</th>\n",
       "      <td>0.0</td>\n",
       "      <td>0.737883</td>\n",
       "      <td>0.4375</td>\n",
       "      <td>0.666667</td>\n",
       "      <td>0.525839</td>\n",
       "      <td>0.333333</td>\n",
       "      <td>0.567211</td>\n",
       "      <td>3</td>\n",
       "      <td>0.0</td>\n",
       "      <td>0.0</td>\n",
       "      <td>...</td>\n",
       "      <td>0.0</td>\n",
       "      <td>0.0</td>\n",
       "      <td>0.0</td>\n",
       "      <td>0.0</td>\n",
       "      <td>0.0</td>\n",
       "      <td>0.0</td>\n",
       "      <td>0.0</td>\n",
       "      <td>0.0</td>\n",
       "      <td>0.0</td>\n",
       "      <td>0.0</td>\n",
       "    </tr>\n",
       "    <tr>\n",
       "      <th>2615</th>\n",
       "      <td>0.0</td>\n",
       "      <td>0.225494</td>\n",
       "      <td>0.4375</td>\n",
       "      <td>0.333333</td>\n",
       "      <td>0.366274</td>\n",
       "      <td>0.333333</td>\n",
       "      <td>0.609296</td>\n",
       "      <td>0</td>\n",
       "      <td>0.0</td>\n",
       "      <td>0.0</td>\n",
       "      <td>...</td>\n",
       "      <td>0.0</td>\n",
       "      <td>0.0</td>\n",
       "      <td>0.0</td>\n",
       "      <td>0.0</td>\n",
       "      <td>0.0</td>\n",
       "      <td>0.0</td>\n",
       "      <td>0.0</td>\n",
       "      <td>0.0</td>\n",
       "      <td>0.0</td>\n",
       "      <td>0.0</td>\n",
       "    </tr>\n",
       "    <tr>\n",
       "      <th>2406</th>\n",
       "      <td>0.0</td>\n",
       "      <td>0.082037</td>\n",
       "      <td>0.1250</td>\n",
       "      <td>0.333333</td>\n",
       "      <td>0.366274</td>\n",
       "      <td>0.666667</td>\n",
       "      <td>0.332915</td>\n",
       "      <td>2</td>\n",
       "      <td>0.0</td>\n",
       "      <td>0.0</td>\n",
       "      <td>...</td>\n",
       "      <td>0.0</td>\n",
       "      <td>0.0</td>\n",
       "      <td>0.0</td>\n",
       "      <td>0.0</td>\n",
       "      <td>0.0</td>\n",
       "      <td>0.0</td>\n",
       "      <td>0.0</td>\n",
       "      <td>0.0</td>\n",
       "      <td>0.0</td>\n",
       "      <td>0.0</td>\n",
       "    </tr>\n",
       "    <tr>\n",
       "      <th>859</th>\n",
       "      <td>0.0</td>\n",
       "      <td>0.086774</td>\n",
       "      <td>0.3750</td>\n",
       "      <td>0.666667</td>\n",
       "      <td>0.366274</td>\n",
       "      <td>0.000000</td>\n",
       "      <td>0.452261</td>\n",
       "      <td>0</td>\n",
       "      <td>0.0</td>\n",
       "      <td>0.0</td>\n",
       "      <td>...</td>\n",
       "      <td>0.0</td>\n",
       "      <td>0.0</td>\n",
       "      <td>0.0</td>\n",
       "      <td>0.0</td>\n",
       "      <td>0.0</td>\n",
       "      <td>0.0</td>\n",
       "      <td>0.0</td>\n",
       "      <td>0.0</td>\n",
       "      <td>0.0</td>\n",
       "      <td>0.0</td>\n",
       "    </tr>\n",
       "  </tbody>\n",
       "</table>\n",
       "<p>5 rows × 180 columns</p>\n",
       "</div>"
      ],
      "text/plain": [
       "      seats       kms  modelYr   ownerNo  engine_cc   Gearbox   Mileage  \\\n",
       "5238    0.0  0.238816   0.6250  0.333333   0.366274  0.333333  0.464824   \n",
       "376     0.0  0.737883   0.4375  0.666667   0.525839  0.333333  0.567211   \n",
       "2615    0.0  0.225494   0.4375  0.333333   0.366274  0.333333  0.609296   \n",
       "2406    0.0  0.082037   0.1250  0.333333   0.366274  0.666667  0.332915   \n",
       "859     0.0  0.086774   0.3750  0.666667   0.366274  0.000000  0.452261   \n",
       "\n",
       "      bodytype  fueltype_Diesel  fueltype_LPG  ...  model_Toyota Glanza  \\\n",
       "5238         3              0.0           0.0  ...                  0.0   \n",
       "376          3              0.0           0.0  ...                  0.0   \n",
       "2615         0              0.0           0.0  ...                  0.0   \n",
       "2406         2              0.0           0.0  ...                  0.0   \n",
       "859          0              0.0           0.0  ...                  0.0   \n",
       "\n",
       "      model_Toyota Urban cruiser  model_Toyota Yaris  model_Volkswagen Ameo  \\\n",
       "5238                         0.0                 0.0                    0.0   \n",
       "376                          0.0                 0.0                    0.0   \n",
       "2615                         0.0                 0.0                    0.0   \n",
       "2406                         0.0                 0.0                    0.0   \n",
       "859                          0.0                 0.0                    0.0   \n",
       "\n",
       "      model_Volkswagen CrossPolo  model_Volkswagen Jetta  \\\n",
       "5238                         0.0                     0.0   \n",
       "376                          0.0                     0.0   \n",
       "2615                         0.0                     0.0   \n",
       "2406                         0.0                     0.0   \n",
       "859                          0.0                     0.0   \n",
       "\n",
       "      model_Volkswagen Polo  model_Volkswagen Taigun  model_Volkswagen Vento  \\\n",
       "5238                    0.0                      0.0                     0.0   \n",
       "376                     0.0                      0.0                     0.0   \n",
       "2615                    0.0                      0.0                     0.0   \n",
       "2406                    0.0                      0.0                     0.0   \n",
       "859                     0.0                      0.0                     0.0   \n",
       "\n",
       "      model_Volkswagen Virtus  \n",
       "5238                      0.0  \n",
       "376                       0.0  \n",
       "2615                      0.0  \n",
       "2406                      0.0  \n",
       "859                       0.0  \n",
       "\n",
       "[5 rows x 180 columns]"
      ]
     },
     "execution_count": 29,
     "metadata": {},
     "output_type": "execute_result"
    }
   ],
   "source": [
    "X_train.head()"
   ]
  },
  {
   "cell_type": "code",
   "execution_count": 30,
   "id": "061930c7",
   "metadata": {},
   "outputs": [],
   "source": [
    "### LINEAR REGRESSION MODEL "
   ]
  },
  {
   "cell_type": "code",
   "execution_count": 31,
   "id": "eb7d42a4",
   "metadata": {},
   "outputs": [
    {
     "data": {
      "text/plain": [
       "array([1006496.,  613648.,  929440., ...,  621856.,  509472.,  249392.])"
      ]
     },
     "execution_count": 31,
     "metadata": {},
     "output_type": "execute_result"
    }
   ],
   "source": [
    "from sklearn.linear_model import LinearRegression\n",
    "\n",
    "# Initialize the model\n",
    "models = LinearRegression()\n",
    "\n",
    "# Fit the model on the training data\n",
    "models.fit(X_train, y_train)\n",
    "\n",
    "# Optionally, you can make predictions on the test set\n",
    "y_pred = models.predict(X_test)\n",
    "\n",
    "# Display predictions (optional)\n",
    "y_pred"
   ]
  },
  {
   "cell_type": "code",
   "execution_count": 32,
   "id": "8635327d",
   "metadata": {},
   "outputs": [
    {
     "name": "stdout",
     "output_type": "stream",
     "text": [
      "Mean Absolute Error (MAE): 656531759610436.500000\n",
      "Mean Squared Error (MSE): 251752582654958979111129895141376.00\n",
      "R-squared: -2683820686403430776832.0000\n",
      "Root Mean Squared Error: 1.5866713038778982e+16\n"
     ]
    }
   ],
   "source": [
    "from sklearn import metrics\n",
    "import numpy as np\n",
    "from sklearn.metrics import mean_absolute_error, mean_squared_error, r2_score\n",
    "\n",
    "# Calculate evaluation metrics\n",
    "mae = mean_absolute_error(y_test, y_pred)\n",
    "mse = mean_squared_error(y_test, y_pred)\n",
    "r2 = r2_score(y_test, y_pred)\n",
    "\n",
    "# for evaluation / accuracy--  prediction + y_test\n",
    "# Display the results\n",
    "print(f\"Mean Absolute Error (MAE): {mae:f}\")\n",
    "print(f\"Mean Squared Error (MSE): {mse:.2f}\")\n",
    "print(f\"R-squared: {r2:.4f}\")\n",
    "print('Root Mean Squared Error:', np.sqrt(metrics.mean_squared_error(y_test, y_pred)))"
   ]
  },
  {
   "cell_type": "markdown",
   "id": "fb120b4e",
   "metadata": {},
   "source": [
    "### RANDOM FOREST"
   ]
  },
  {
   "cell_type": "code",
   "execution_count": 33,
   "id": "14044b56",
   "metadata": {},
   "outputs": [
    {
     "name": "stdout",
     "output_type": "stream",
     "text": [
      "Mean Squared Error: 2.5175258265495898e+32\n",
      "root mean square : 0.9180801618055133\n",
      "Mean Absolute Error (MAE): 60316.25\n",
      "Root Mean Squared Error: 87660.66525268677\n"
     ]
    }
   ],
   "source": [
    "from sklearn.model_selection import train_test_split\n",
    "from sklearn.ensemble import RandomForestRegressor\n",
    "from sklearn.metrics import mean_squared_error\n",
    "from sklearn.metrics import r2_score\n",
    "\n",
    "\n",
    "model = RandomForestRegressor(random_state=42,n_estimators=350,max_depth=50)\n",
    "model.fit(X_train, y_train)\n",
    "\n",
    "y_pred = model.predict(X_test)\n",
    "mean_squared_error(y_test, y_pred)\n",
    "print(f'Mean Squared Error: {mse}')\n",
    "print('root mean square :',r2_score(y_test, y_pred))\n",
    "a=mean_absolute_error(y_test, y_pred)\n",
    "print(f\"Mean Absolute Error (MAE): {a:.2f}\")\n",
    "print('Root Mean Squared Error:', np.sqrt(metrics.mean_squared_error(y_test, y_pred)))"
   ]
  },
  {
   "cell_type": "code",
   "execution_count": 34,
   "id": "df15641b",
   "metadata": {},
   "outputs": [
    {
     "data": {
      "text/html": [
       "<div>\n",
       "<style scoped>\n",
       "    .dataframe tbody tr th:only-of-type {\n",
       "        vertical-align: middle;\n",
       "    }\n",
       "\n",
       "    .dataframe tbody tr th {\n",
       "        vertical-align: top;\n",
       "    }\n",
       "\n",
       "    .dataframe thead th {\n",
       "        text-align: right;\n",
       "    }\n",
       "</style>\n",
       "<table border=\"1\" class=\"dataframe\">\n",
       "  <thead>\n",
       "    <tr style=\"text-align: right;\">\n",
       "      <th></th>\n",
       "      <th>Feature</th>\n",
       "      <th>Importance</th>\n",
       "    </tr>\n",
       "  </thead>\n",
       "  <tbody>\n",
       "    <tr>\n",
       "      <th>2</th>\n",
       "      <td>modelYr</td>\n",
       "      <td>0.401855</td>\n",
       "    </tr>\n",
       "    <tr>\n",
       "      <th>5</th>\n",
       "      <td>Gearbox</td>\n",
       "      <td>0.267306</td>\n",
       "    </tr>\n",
       "    <tr>\n",
       "      <th>4</th>\n",
       "      <td>engine_cc</td>\n",
       "      <td>0.083081</td>\n",
       "    </tr>\n",
       "    <tr>\n",
       "      <th>7</th>\n",
       "      <td>bodytype</td>\n",
       "      <td>0.054967</td>\n",
       "    </tr>\n",
       "    <tr>\n",
       "      <th>1</th>\n",
       "      <td>kms</td>\n",
       "      <td>0.031527</td>\n",
       "    </tr>\n",
       "    <tr>\n",
       "      <th>...</th>\n",
       "      <td>...</td>\n",
       "      <td>...</td>\n",
       "    </tr>\n",
       "    <tr>\n",
       "      <th>0</th>\n",
       "      <td>seats</td>\n",
       "      <td>0.000000</td>\n",
       "    </tr>\n",
       "    <tr>\n",
       "      <th>109</th>\n",
       "      <td>model_Maruti Celerio Tour 2018-2021</td>\n",
       "      <td>0.000000</td>\n",
       "    </tr>\n",
       "    <tr>\n",
       "      <th>58</th>\n",
       "      <td>model_Fiat Punto Abarth</td>\n",
       "      <td>0.000000</td>\n",
       "    </tr>\n",
       "    <tr>\n",
       "      <th>56</th>\n",
       "      <td>model_Fiat Palio</td>\n",
       "      <td>0.000000</td>\n",
       "    </tr>\n",
       "    <tr>\n",
       "      <th>116</th>\n",
       "      <td>model_Maruti Grand Vitara</td>\n",
       "      <td>0.000000</td>\n",
       "    </tr>\n",
       "  </tbody>\n",
       "</table>\n",
       "<p>180 rows × 2 columns</p>\n",
       "</div>"
      ],
      "text/plain": [
       "                                 Feature  Importance\n",
       "2                                modelYr    0.401855\n",
       "5                                Gearbox    0.267306\n",
       "4                              engine_cc    0.083081\n",
       "7                               bodytype    0.054967\n",
       "1                                    kms    0.031527\n",
       "..                                   ...         ...\n",
       "0                                  seats    0.000000\n",
       "109  model_Maruti Celerio Tour 2018-2021    0.000000\n",
       "58               model_Fiat Punto Abarth    0.000000\n",
       "56                      model_Fiat Palio    0.000000\n",
       "116            model_Maruti Grand Vitara    0.000000\n",
       "\n",
       "[180 rows x 2 columns]"
      ]
     },
     "execution_count": 34,
     "metadata": {},
     "output_type": "execute_result"
    }
   ],
   "source": [
    "importances = model.feature_importances_\n",
    "feature_importances = pd.DataFrame({'Feature': X.columns, 'Importance': importances})\n",
    "feature_importances = feature_importances.sort_values(by='Importance', ascending=False)\n",
    "feature_importances"
   ]
  },
  {
   "cell_type": "markdown",
   "id": "4f003ea6",
   "metadata": {},
   "source": [
    "### XG BOOST"
   ]
  },
  {
   "cell_type": "code",
   "execution_count": 35,
   "id": "9b2bd66c",
   "metadata": {},
   "outputs": [
    {
     "name": "stdout",
     "output_type": "stream",
     "text": [
      "Fitting 5 folds for each of 972 candidates, totalling 4860 fits\n",
      "XGBoost Tuned Results:\n",
      "Best Parameters: {'colsample_bytree': 0.8, 'gamma': 0, 'learning_rate': 0.1, 'max_depth': 5, 'n_estimators': 300, 'subsample': 0.8}\n",
      "Mean Squared Error: 6383203240.7790\n",
      "R-squared Score: 0.9320\n",
      "Root Mean Squared Error: 79894.9513\n"
     ]
    }
   ],
   "source": [
    "import xgboost as xgb\n",
    "from sklearn.model_selection import train_test_split, GridSearchCV\n",
    "from sklearn.metrics import mean_squared_error, r2_score\n",
    "import numpy as np\n",
    "import joblib\n",
    "\n",
    "# Assuming X and y are your features and target variable\n",
    "\n",
    "# Create the XGBoost model\n",
    "xgb_model = xgb.XGBRegressor(random_state=42)\n",
    "\n",
    "# Define the hyperparameters to tune\n",
    "param_grid = {\n",
    "    'n_estimators': [100, 200, 300],\n",
    "    'max_depth': [3, 4, 5, 6],\n",
    "    'learning_rate': [0.01, 0.1, 0.3],\n",
    "    'subsample': [0.8, 0.9, 1.0],\n",
    "    'colsample_bytree': [0.8, 0.9, 1.0],\n",
    "    'gamma': [0, 0.1, 0.2]\n",
    "}\n",
    "\n",
    "# Set up GridSearchCV\n",
    "grid_search = GridSearchCV(estimator=xgb_model, param_grid=param_grid, \n",
    "                           cv=5, n_jobs=-1, verbose=2, scoring='r2')\n",
    "\n",
    "# Fit the grid search\n",
    "grid_search.fit(X_train, y_train)\n",
    "\n",
    "# Get the best parameters and model\n",
    "best_params = grid_search.best_params_\n",
    "best_model = grid_search.best_estimator_\n",
    "\n",
    "# Make predictions with the best model\n",
    "y_pred = best_model.predict(X_test)\n",
    "\n",
    "# Calculate metrics\n",
    "mse = mean_squared_error(y_test, y_pred)\n",
    "r2 = r2_score(y_test, y_pred)\n",
    "rmse = np.sqrt(mse)\n",
    "\n",
    "# Print results\n",
    "print(\"XGBoost Tuned Results:\")\n",
    "print(f\"Best Parameters: {best_params}\")\n",
    "print(f\"Mean Squared Error: {mse:.4f}\")\n",
    "print(f\"R-squared Score: {r2:.4f}\")\n",
    "print(f\"Root Mean Squared Error: {rmse:.4f}\")"
   ]
  },
  {
   "cell_type": "markdown",
   "id": "8f2f7c81",
   "metadata": {},
   "source": [
    "### Gradient boosting"
   ]
  },
  {
   "cell_type": "code",
   "execution_count": 36,
   "id": "ca6067dc",
   "metadata": {},
   "outputs": [
    {
     "name": "stdout",
     "output_type": "stream",
     "text": [
      "Gradient Boosting Regressor Results:\n",
      "Mean Squared Error: 9423798552.3487\n",
      "R-squared Score: 0.8995\n",
      "Mean Absolute Error: 69480.4251\n",
      "Root Mean Squared Error: 97076.2512\n"
     ]
    }
   ],
   "source": [
    "from sklearn.ensemble import GradientBoostingRegressor\n",
    "from sklearn.model_selection import train_test_split\n",
    "from sklearn.metrics import mean_squared_error, r2_score, mean_absolute_error\n",
    "import numpy as np\n",
    "\n",
    "# Assuming X and y are your features and target variable\n",
    "\n",
    "# Create and train the Gradient Boosting model\n",
    "gb_model = GradientBoostingRegressor(n_estimators=100, learning_rate=0.1, max_depth=3, random_state=42)\n",
    "gb_model.fit(X_train, y_train)\n",
    "\n",
    "# Make predictions\n",
    "y_pred = gb_model.predict(X_test)\n",
    "\n",
    "# Calculate metrics\n",
    "mse = mean_squared_error(y_test, y_pred)\n",
    "r2 = r2_score(y_test, y_pred)\n",
    "mae = mean_absolute_error(y_test, y_pred)\n",
    "rmse = np.sqrt(mse)\n",
    "\n",
    "# Print results\n",
    "print(\"Gradient Boosting Regressor Results:\")\n",
    "print(f\"Mean Squared Error: {mse:.4f}\")\n",
    "print(f\"R-squared Score: {r2:.4f}\")\n",
    "print(f\"Mean Absolute Error: {mae:.4f}\")\n",
    "print(f\"Root Mean Squared Error: {rmse:.4f}\")"
   ]
  },
  {
   "cell_type": "code",
   "execution_count": 37,
   "id": "5bf0ac6c",
   "metadata": {},
   "outputs": [
    {
     "name": "stdout",
     "output_type": "stream",
     "text": [
      "Feature seats: 0.0000\n",
      "Feature kms: 0.0132\n",
      "Feature modelYr: 0.4330\n",
      "Feature ownerNo: 0.0019\n",
      "Feature engine_cc: 0.1144\n",
      "Feature Gearbox: 0.2073\n",
      "Feature Mileage: 0.0202\n",
      "Feature bodytype: 0.0895\n",
      "Feature fueltype_Diesel: 0.0001\n",
      "Feature fueltype_LPG: 0.0000\n",
      "Feature fueltype_Petrol: 0.0000\n",
      "Feature transmission_Manual: 0.0283\n",
      "Feature Insurance_Not Available: 0.0006\n",
      "Feature Insurance_Third Party: 0.0001\n",
      "Feature Insurance_Zero Dep: 0.0000\n",
      "Feature oem_Chevrolet: 0.0002\n",
      "Feature oem_Citroen: 0.0000\n",
      "Feature oem_Datsun: 0.0015\n",
      "Feature oem_Fiat: 0.0000\n",
      "Feature oem_Ford: 0.0028\n",
      "Feature oem_Honda: 0.0000\n",
      "Feature oem_Hyundai: 0.0000\n",
      "Feature oem_Jeep: 0.0004\n",
      "Feature oem_Kia: 0.0000\n",
      "Feature oem_MG: 0.0053\n",
      "Feature oem_Mahindra: 0.0001\n",
      "Feature oem_Maruti: 0.0000\n",
      "Feature oem_Mercedes-Benz: 0.0019\n",
      "Feature oem_Mini: 0.0019\n",
      "Feature oem_Nissan: 0.0000\n",
      "Feature oem_Renault: 0.0009\n",
      "Feature oem_Skoda: 0.0021\n",
      "Feature oem_Tata: 0.0039\n",
      "Feature oem_Toyota: 0.0000\n",
      "Feature oem_Volkswagen: 0.0003\n",
      "Feature DriveType_AWD: 0.0000\n",
      "Feature DriveType_FWD: 0.0000\n",
      "Feature DriveType_RWD: 0.0000\n",
      "Feature city_Chennai: 0.0000\n",
      "Feature city_Delhi: 0.0062\n",
      "Feature city_Hyderabad: 0.0003\n",
      "Feature city_Jaipur: 0.0038\n",
      "Feature city_Kolkata: 0.0188\n",
      "Feature model_Chevrolet Aveo: 0.0000\n",
      "Feature model_Chevrolet Aveo U-VA: 0.0000\n",
      "Feature model_Chevrolet Beat: 0.0000\n",
      "Feature model_Chevrolet Optra: 0.0000\n",
      "Feature model_Chevrolet Sail: 0.0000\n",
      "Feature model_Chevrolet Spark: 0.0000\n",
      "Feature model_Citroen C3: 0.0000\n",
      "Feature model_Datsun GO: 0.0000\n",
      "Feature model_Datsun RediGO: 0.0000\n",
      "Feature model_Fiat Abarth Avventura: 0.0000\n",
      "Feature model_Fiat Avventura: 0.0000\n",
      "Feature model_Fiat Grande Punto: 0.0000\n",
      "Feature model_Fiat Linea: 0.0000\n",
      "Feature model_Fiat Palio: 0.0000\n",
      "Feature model_Fiat Punto: 0.0000\n",
      "Feature model_Fiat Punto Abarth: 0.0000\n",
      "Feature model_Fiat Punto EVO: 0.0000\n",
      "Feature model_Fiat Punto Pure: 0.0000\n",
      "Feature model_Ford Aspire: 0.0000\n",
      "Feature model_Ford Ecosport: 0.0000\n",
      "Feature model_Ford Fiesta: 0.0000\n",
      "Feature model_Ford Fiesta Classic: 0.0000\n",
      "Feature model_Ford Figo: 0.0000\n",
      "Feature model_Ford Freestyle: 0.0000\n",
      "Feature model_Honda Amaze: 0.0004\n",
      "Feature model_Honda Brio: 0.0000\n",
      "Feature model_Honda City: 0.0019\n",
      "Feature model_Honda Civic: 0.0000\n",
      "Feature model_Honda Jazz: 0.0000\n",
      "Feature model_Honda WR-V: 0.0000\n",
      "Feature model_Hyundai Accent: 0.0000\n",
      "Feature model_Hyundai Aura: 0.0000\n",
      "Feature model_Hyundai Creta: 0.0073\n",
      "Feature model_Hyundai EON: 0.0000\n",
      "Feature model_Hyundai Elantra: 0.0000\n",
      "Feature model_Hyundai Getz: 0.0000\n",
      "Feature model_Hyundai Grand i10: 0.0000\n",
      "Feature model_Hyundai Grand i10 Nios: 0.0000\n",
      "Feature model_Hyundai Santro: 0.0000\n",
      "Feature model_Hyundai Santro Xing: 0.0000\n",
      "Feature model_Hyundai Venue: 0.0000\n",
      "Feature model_Hyundai Verna: 0.0000\n",
      "Feature model_Hyundai Xcent: 0.0000\n",
      "Feature model_Hyundai Xcent Prime: 0.0000\n",
      "Feature model_Hyundai i10: 0.0000\n",
      "Feature model_Hyundai i20: 0.0017\n",
      "Feature model_Hyundai i20 Active: 0.0000\n",
      "Feature model_Hyundai i20 N Line: 0.0002\n",
      "Feature model_Jeep Compass: 0.0043\n",
      "Feature model_Kia Seltos: 0.0085\n",
      "Feature model_Kia Sonet: 0.0000\n",
      "Feature model_MG Astor: 0.0000\n",
      "Feature model_MG Hector: 0.0004\n",
      "Feature model_Mahindra KUV 100: 0.0000\n",
      "Feature model_Mahindra KUV 100 NXT: 0.0000\n",
      "Feature model_Mahindra Renault Logan: 0.0000\n",
      "Feature model_Mahindra Verito: 0.0000\n",
      "Feature model_Mahindra XUV300: 0.0000\n",
      "Feature model_Maruti A-Star: 0.0000\n",
      "Feature model_Maruti Alto: 0.0000\n",
      "Feature model_Maruti Alto 800: 0.0000\n",
      "Feature model_Maruti Alto K10: 0.0002\n",
      "Feature model_Maruti Baleno: 0.0030\n",
      "Feature model_Maruti Baleno RS: 0.0000\n",
      "Feature model_Maruti Brezza: 0.0000\n",
      "Feature model_Maruti Celerio: 0.0000\n",
      "Feature model_Maruti Celerio Tour 2018-2021: 0.0000\n",
      "Feature model_Maruti Celerio X: 0.0000\n",
      "Feature model_Maruti Ciaz: 0.0000\n",
      "Feature model_Maruti Eeco: 0.0000\n",
      "Feature model_Maruti Esteem: 0.0000\n",
      "Feature model_Maruti Estilo: 0.0000\n",
      "Feature model_Maruti FRONX: 0.0000\n",
      "Feature model_Maruti Grand Vitara: 0.0000\n",
      "Feature model_Maruti Ignis: 0.0001\n",
      "Feature model_Maruti Ritz: 0.0000\n",
      "Feature model_Maruti S-Presso: 0.0000\n",
      "Feature model_Maruti SX4: 0.0000\n",
      "Feature model_Maruti SX4 S Cross: 0.0000\n",
      "Feature model_Maruti Swift: 0.0007\n",
      "Feature model_Maruti Swift Dzire: 0.0000\n",
      "Feature model_Maruti Swift Dzire Tour: 0.0000\n",
      "Feature model_Maruti Vitara Brezza: 0.0004\n",
      "Feature model_Maruti Wagon R: 0.0000\n",
      "Feature model_Maruti Wagon R Stingray: 0.0000\n",
      "Feature model_Maruti Zen Estilo: 0.0000\n",
      "Feature model_Mercedes-Benz A Class: 0.0000\n",
      "Feature model_Mercedes-Benz B Class: 0.0000\n",
      "Feature model_Mercedes-Benz C-Class: 0.0000\n",
      "Feature model_Mercedes-Benz E-Class: 0.0003\n",
      "Feature model_Mini 5 DOOR: 0.0007\n",
      "Feature model_Nissan Kicks: 0.0000\n",
      "Feature model_Nissan Magnite: 0.0000\n",
      "Feature model_Nissan Micra: 0.0000\n",
      "Feature model_Nissan Micra Active: 0.0000\n",
      "Feature model_Nissan Sunny: 0.0000\n",
      "Feature model_Nissan Terrano: 0.0000\n",
      "Feature model_Renault Captur: 0.0000\n",
      "Feature model_Renault Duster: 0.0000\n",
      "Feature model_Renault Fluence: 0.0000\n",
      "Feature model_Renault KWID: 0.0000\n",
      "Feature model_Renault Kiger: 0.0000\n",
      "Feature model_Renault Pulse: 0.0000\n",
      "Feature model_Renault Scala: 0.0000\n",
      "Feature model_Skoda Fabia: 0.0000\n",
      "Feature model_Skoda Kushaq: 0.0006\n",
      "Feature model_Skoda Laura: 0.0001\n",
      "Feature model_Skoda Octavia: 0.0010\n",
      "Feature model_Skoda Rapid: 0.0001\n",
      "Feature model_Skoda Slavia: 0.0000\n",
      "Feature model_Skoda Superb: 0.0000\n",
      "Feature model_Tata Altroz: 0.0005\n",
      "Feature model_Tata Bolt: 0.0000\n",
      "Feature model_Tata Indica: 0.0000\n",
      "Feature model_Tata Indica V2: 0.0004\n",
      "Feature model_Tata Indigo: 0.0000\n",
      "Feature model_Tata Manza: 0.0000\n",
      "Feature model_Tata Nexon: 0.0003\n",
      "Feature model_Tata Punch: 0.0000\n",
      "Feature model_Tata Tiago: 0.0000\n",
      "Feature model_Tata Tiago NRG: 0.0000\n",
      "Feature model_Tata Tigor: 0.0000\n",
      "Feature model_Tata Zest: 0.0000\n",
      "Feature model_Toyota Corolla Altis: 0.0001\n",
      "Feature model_Toyota Etios: 0.0000\n",
      "Feature model_Toyota Etios Cross: 0.0000\n",
      "Feature model_Toyota Etios Liva: 0.0000\n",
      "Feature model_Toyota Glanza: 0.0000\n",
      "Feature model_Toyota Urban cruiser: 0.0000\n",
      "Feature model_Toyota Yaris: 0.0009\n",
      "Feature model_Volkswagen Ameo: 0.0000\n",
      "Feature model_Volkswagen CrossPolo: 0.0000\n",
      "Feature model_Volkswagen Jetta: 0.0000\n",
      "Feature model_Volkswagen Polo: 0.0004\n",
      "Feature model_Volkswagen Taigun: 0.0065\n",
      "Feature model_Volkswagen Vento: 0.0000\n",
      "Feature model_Volkswagen Virtus: 0.0001\n"
     ]
    }
   ],
   "source": [
    "# Feature importance\n",
    "feature_importance = gb_model.feature_importances_\n",
    "for i, importance in enumerate(feature_importance):\n",
    "    print(f\"Feature {X.columns[i]}: {importance:.4f}\")"
   ]
  },
  {
   "cell_type": "markdown",
   "id": "a30fddeb",
   "metadata": {},
   "source": [
    "### Comparison"
   ]
  },
  {
   "cell_type": "code",
   "execution_count": 38,
   "id": "249fd2ac",
   "metadata": {},
   "outputs": [
    {
     "name": "stdout",
     "output_type": "stream",
     "text": [
      "\n",
      "Linear Regression Results:\n",
      "MSE: 146962361363237228808966783369216.0000\n",
      "R2: -1566699421272384471040.0000\n",
      "MAE: 505597328128594.4375\n",
      "RMSE: 12122803362392596.0000\n",
      "\n",
      "Random Forest Results:\n",
      "MSE: 7806515893.6984\n",
      "R2: 0.9168\n",
      "MAE: 60909.3697\n",
      "RMSE: 88354.4899\n",
      "\n",
      "XGBoost Results:\n",
      "MSE: 7268769908.3597\n",
      "R2: 0.9225\n",
      "MAE: 57559.9762\n",
      "RMSE: 85257.0813\n",
      "\n",
      "Gradient Boosting Results:\n",
      "MSE: 9423798552.3487\n",
      "R2: 0.8995\n",
      "MAE: 69480.4251\n",
      "RMSE: 97076.2512\n",
      "\n",
      "Best model based on R2 score: XGBoost\n"
     ]
    }
   ],
   "source": [
    "from sklearn.linear_model import LinearRegression, ElasticNet\n",
    "from sklearn.ensemble import RandomForestRegressor, GradientBoostingRegressor\n",
    "from sklearn.svm import SVR\n",
    "from sklearn.neighbors import KNeighborsRegressor\n",
    "from sklearn.model_selection import train_test_split\n",
    "from sklearn.metrics import mean_squared_error, r2_score, mean_absolute_error\n",
    "from sklearn.preprocessing import MinMaxScaler\n",
    "import numpy as np\n",
    "import xgboost as xgb\n",
    "\n",
    "def compare_models(X, y):\n",
    "    # Split the data first\n",
    "    X_train, X_test, y_train, y_test = train_test_split(X, y, test_size=0.3, random_state=42)\n",
    "    \n",
    "    # Scale the features using MinMaxScaler\n",
    "    scaler = MinMaxScaler()\n",
    "    X_train_scaled = scaler.fit_transform(X_train)\n",
    "    X_test_scaled = scaler.transform(X_test)\n",
    "    \n",
    "    # Initialize models\n",
    "    models = {\n",
    "        'Linear Regression': LinearRegression(),\n",
    "        'Random Forest': RandomForestRegressor(random_state=42),\n",
    "        'XGBoost': xgb.XGBRegressor(random_state=42, colsample_bytree=1.0, gamma=0, learning_rate=0.3, max_depth=5, n_estimators=300, subsample=0.8),\n",
    "        'Gradient Boosting': GradientBoostingRegressor(random_state=42),\n",
    "        \n",
    "    }\n",
    "    \n",
    "    # Dictionary to store results\n",
    "    results = {}\n",
    "    \n",
    "    for name, model in models.items():\n",
    "        # Train the model\n",
    "        model.fit(X_train_scaled, y_train)\n",
    "        y_pred = model.predict(X_test_scaled)\n",
    "        \n",
    "        # Calculate metrics\n",
    "        mse = mean_squared_error(y_test, y_pred)\n",
    "        r2 = r2_score(y_test, y_pred)\n",
    "        mae = mean_absolute_error(y_test, y_pred)\n",
    "        rmse = np.sqrt(mse)\n",
    "        \n",
    "        # Store results\n",
    "        results[name] = {\n",
    "            'MSE': mse,\n",
    "            'R2': r2,\n",
    "            'MAE': mae,\n",
    "            'RMSE': rmse\n",
    "        }\n",
    "    \n",
    "    # Print results\n",
    "    for name, metrics in results.items():\n",
    "        print(f\"\\n{name} Results:\")\n",
    "        for metric, value in metrics.items():\n",
    "            print(f\"{metric}: {value:.4f}\")\n",
    "    \n",
    "    # Determine the best model\n",
    "    best_model = max(results, key=lambda x: results[x]['R2'])\n",
    "    print(f\"\\nBest model based on R2 score: {best_model}\")\n",
    "    \n",
    "    return results\n",
    "\n",
    "# Usage\n",
    "results = compare_models(X, y)"
   ]
  },
  {
   "cell_type": "markdown",
   "id": "a20d7dc2",
   "metadata": {},
   "source": [
    "### MODEL PICKLING"
   ]
  },
  {
   "cell_type": "code",
   "execution_count": 39,
   "id": "df69146d",
   "metadata": {},
   "outputs": [
    {
     "data": {
      "text/plain": [
       "['scaler.pkl']"
      ]
     },
     "execution_count": 39,
     "metadata": {},
     "output_type": "execute_result"
    }
   ],
   "source": [
    "from sklearn.preprocessing import MinMaxScaler\n",
    "import joblib\n",
    "\n",
    "\n",
    "joblib.dump(scaler, 'scaler.pkl')  # Save the scaler"
   ]
  },
  {
   "cell_type": "code",
   "execution_count": 40,
   "id": "0ff08953",
   "metadata": {},
   "outputs": [
    {
     "data": {
      "text/plain": [
       "['linarreg.pkl']"
      ]
     },
     "execution_count": 40,
     "metadata": {},
     "output_type": "execute_result"
    }
   ],
   "source": [
    "import joblib\n",
    "\n",
    "joblib.dump(models, 'linarreg.pkl')\n",
    "#joblib.dump(model, 'xgb_model.pkl')"
   ]
  },
  {
   "cell_type": "code",
   "execution_count": 41,
   "id": "60d2af53",
   "metadata": {},
   "outputs": [
    {
     "data": {
      "text/plain": [
       "['randomforest.pkl']"
      ]
     },
     "execution_count": 41,
     "metadata": {},
     "output_type": "execute_result"
    }
   ],
   "source": [
    "import joblib\n",
    "\n",
    "joblib.dump(model, 'randomforest.pkl')\n",
    "#joblib.dump(model, 'xgb_model.pkl')"
   ]
  },
  {
   "cell_type": "code",
   "execution_count": 42,
   "id": "1088367e",
   "metadata": {},
   "outputs": [
    {
     "data": {
      "text/plain": [
       "['best_xgb_model.pkl']"
      ]
     },
     "execution_count": 42,
     "metadata": {},
     "output_type": "execute_result"
    }
   ],
   "source": [
    "import joblib\n",
    "\n",
    "joblib.dump(best_model, 'best_xgb_model.pkl')\n",
    "#joblib.dump(model, 'xgb_model.pkl')"
   ]
  },
  {
   "cell_type": "code",
   "execution_count": 43,
   "id": "673290ac",
   "metadata": {},
   "outputs": [
    {
     "data": {
      "text/plain": [
       "['gradientboost.pkl']"
      ]
     },
     "execution_count": 43,
     "metadata": {},
     "output_type": "execute_result"
    }
   ],
   "source": [
    "import joblib\n",
    "\n",
    "joblib.dump(gb_model, 'gradientboost.pkl')\n",
    "#joblib.dump(model, 'xgb_model.pkl')"
   ]
  },
  {
   "cell_type": "code",
   "execution_count": 44,
   "id": "65b21192",
   "metadata": {},
   "outputs": [],
   "source": [
    "#import pickle\n",
    "\n",
    "# # ... (your existing code for encoding categorical data)\n",
    "\n",
    " # Pickle each dictionary separately\n",
    "#for dictionary_name, dictionary in [(\"d_city\", d_city), (\"d_bodytype\", d_bodytype), (\"d_fueltype\", d_fueltype), (\"d_oem\", d_oem), (\"d_Insurance\", d_Insurance), (\"d_DriveType\", d_drivetype), (\"d_transmission\", d_transmission), (\"d_transmission\", d_transmission)]:\n",
    "     #filename = f\"{dictionary_name}.pkl\"\n",
    "     #with open(filename, \"wb\") as f:\n",
    "        #pickle.dump(dictionary, f)"
   ]
  },
  {
   "cell_type": "code",
   "execution_count": 45,
   "id": "54245529",
   "metadata": {},
   "outputs": [
    {
     "name": "stdout",
     "output_type": "stream",
     "text": [
      "['seats' 'kms' 'modelYr' 'ownerNo' 'engine_cc' 'Gearbox' 'Mileage'\n",
      " 'bodytype' 'fueltype_Diesel' 'fueltype_LPG' 'fueltype_Petrol'\n",
      " 'transmission_Manual' 'Insurance_Not Available' 'Insurance_Third Party'\n",
      " 'Insurance_Zero Dep' 'oem_Chevrolet' 'oem_Citroen' 'oem_Datsun'\n",
      " 'oem_Fiat' 'oem_Ford' 'oem_Honda' 'oem_Hyundai' 'oem_Jeep' 'oem_Kia'\n",
      " 'oem_MG' 'oem_Mahindra' 'oem_Maruti' 'oem_Mercedes-Benz' 'oem_Mini'\n",
      " 'oem_Nissan' 'oem_Renault' 'oem_Skoda' 'oem_Tata' 'oem_Toyota'\n",
      " 'oem_Volkswagen' 'DriveType_AWD' 'DriveType_FWD' 'DriveType_RWD'\n",
      " 'city_Chennai' 'city_Delhi' 'city_Hyderabad' 'city_Jaipur' 'city_Kolkata'\n",
      " 'model_Chevrolet Aveo' 'model_Chevrolet Aveo U-VA' 'model_Chevrolet Beat'\n",
      " 'model_Chevrolet Optra' 'model_Chevrolet Sail' 'model_Chevrolet Spark'\n",
      " 'model_Citroen C3' 'model_Datsun GO' 'model_Datsun RediGO'\n",
      " 'model_Fiat Abarth Avventura' 'model_Fiat Avventura'\n",
      " 'model_Fiat Grande Punto' 'model_Fiat Linea' 'model_Fiat Palio'\n",
      " 'model_Fiat Punto' 'model_Fiat Punto Abarth' 'model_Fiat Punto EVO'\n",
      " 'model_Fiat Punto Pure' 'model_Ford Aspire' 'model_Ford Ecosport'\n",
      " 'model_Ford Fiesta' 'model_Ford Fiesta Classic' 'model_Ford Figo'\n",
      " 'model_Ford Freestyle' 'model_Honda Amaze' 'model_Honda Brio'\n",
      " 'model_Honda City' 'model_Honda Civic' 'model_Honda Jazz'\n",
      " 'model_Honda WR-V' 'model_Hyundai Accent' 'model_Hyundai Aura'\n",
      " 'model_Hyundai Creta' 'model_Hyundai EON' 'model_Hyundai Elantra'\n",
      " 'model_Hyundai Getz' 'model_Hyundai Grand i10'\n",
      " 'model_Hyundai Grand i10 Nios' 'model_Hyundai Santro'\n",
      " 'model_Hyundai Santro Xing' 'model_Hyundai Venue' 'model_Hyundai Verna'\n",
      " 'model_Hyundai Xcent' 'model_Hyundai Xcent Prime' 'model_Hyundai i10'\n",
      " 'model_Hyundai i20' 'model_Hyundai i20 Active' 'model_Hyundai i20 N Line'\n",
      " 'model_Jeep Compass' 'model_Kia Seltos' 'model_Kia Sonet'\n",
      " 'model_MG Astor' 'model_MG Hector' 'model_Mahindra KUV 100'\n",
      " 'model_Mahindra KUV 100 NXT' 'model_Mahindra Renault Logan'\n",
      " 'model_Mahindra Verito' 'model_Mahindra XUV300' 'model_Maruti A-Star'\n",
      " 'model_Maruti Alto' 'model_Maruti Alto 800' 'model_Maruti Alto K10'\n",
      " 'model_Maruti Baleno' 'model_Maruti Baleno RS' 'model_Maruti Brezza'\n",
      " 'model_Maruti Celerio' 'model_Maruti Celerio Tour 2018-2021'\n",
      " 'model_Maruti Celerio X' 'model_Maruti Ciaz' 'model_Maruti Eeco'\n",
      " 'model_Maruti Esteem' 'model_Maruti Estilo' 'model_Maruti FRONX'\n",
      " 'model_Maruti Grand Vitara' 'model_Maruti Ignis' 'model_Maruti Ritz'\n",
      " 'model_Maruti S-Presso' 'model_Maruti SX4' 'model_Maruti SX4 S Cross'\n",
      " 'model_Maruti Swift' 'model_Maruti Swift Dzire'\n",
      " 'model_Maruti Swift Dzire Tour' 'model_Maruti Vitara Brezza'\n",
      " 'model_Maruti Wagon R' 'model_Maruti Wagon R Stingray'\n",
      " 'model_Maruti Zen Estilo' 'model_Mercedes-Benz A Class'\n",
      " 'model_Mercedes-Benz B Class' 'model_Mercedes-Benz C-Class'\n",
      " 'model_Mercedes-Benz E-Class' 'model_Mini 5 DOOR' 'model_Nissan Kicks'\n",
      " 'model_Nissan Magnite' 'model_Nissan Micra' 'model_Nissan Micra Active'\n",
      " 'model_Nissan Sunny' 'model_Nissan Terrano' 'model_Renault Captur'\n",
      " 'model_Renault Duster' 'model_Renault Fluence' 'model_Renault KWID'\n",
      " 'model_Renault Kiger' 'model_Renault Pulse' 'model_Renault Scala'\n",
      " 'model_Skoda Fabia' 'model_Skoda Kushaq' 'model_Skoda Laura'\n",
      " 'model_Skoda Octavia' 'model_Skoda Rapid' 'model_Skoda Slavia'\n",
      " 'model_Skoda Superb' 'model_Tata Altroz' 'model_Tata Bolt'\n",
      " 'model_Tata Indica' 'model_Tata Indica V2' 'model_Tata Indigo'\n",
      " 'model_Tata Manza' 'model_Tata Nexon' 'model_Tata Punch'\n",
      " 'model_Tata Tiago' 'model_Tata Tiago NRG' 'model_Tata Tigor'\n",
      " 'model_Tata Zest' 'model_Toyota Corolla Altis' 'model_Toyota Etios'\n",
      " 'model_Toyota Etios Cross' 'model_Toyota Etios Liva'\n",
      " 'model_Toyota Glanza' 'model_Toyota Urban cruiser' 'model_Toyota Yaris'\n",
      " 'model_Volkswagen Ameo' 'model_Volkswagen CrossPolo'\n",
      " 'model_Volkswagen Jetta' 'model_Volkswagen Polo'\n",
      " 'model_Volkswagen Taigun' 'model_Volkswagen Vento'\n",
      " 'model_Volkswagen Virtus']\n"
     ]
    }
   ],
   "source": [
    "print(model.feature_names_in_)"
   ]
  },
  {
   "cell_type": "code",
   "execution_count": 46,
   "id": "0b80199c",
   "metadata": {},
   "outputs": [
    {
     "data": {
      "text/html": [
       "<div>\n",
       "<style scoped>\n",
       "    .dataframe tbody tr th:only-of-type {\n",
       "        vertical-align: middle;\n",
       "    }\n",
       "\n",
       "    .dataframe tbody tr th {\n",
       "        vertical-align: top;\n",
       "    }\n",
       "\n",
       "    .dataframe thead th {\n",
       "        text-align: right;\n",
       "    }\n",
       "</style>\n",
       "<table border=\"1\" class=\"dataframe\">\n",
       "  <thead>\n",
       "    <tr style=\"text-align: right;\">\n",
       "      <th></th>\n",
       "      <th>seats</th>\n",
       "      <th>kms</th>\n",
       "      <th>modelYr</th>\n",
       "      <th>ownerNo</th>\n",
       "      <th>engine_cc</th>\n",
       "      <th>Gearbox</th>\n",
       "      <th>Mileage</th>\n",
       "      <th>bodytype</th>\n",
       "      <th>fueltype_Diesel</th>\n",
       "      <th>fueltype_LPG</th>\n",
       "      <th>...</th>\n",
       "      <th>model_Toyota Glanza</th>\n",
       "      <th>model_Toyota Urban cruiser</th>\n",
       "      <th>model_Toyota Yaris</th>\n",
       "      <th>model_Volkswagen Ameo</th>\n",
       "      <th>model_Volkswagen CrossPolo</th>\n",
       "      <th>model_Volkswagen Jetta</th>\n",
       "      <th>model_Volkswagen Polo</th>\n",
       "      <th>model_Volkswagen Taigun</th>\n",
       "      <th>model_Volkswagen Vento</th>\n",
       "      <th>model_Volkswagen Virtus</th>\n",
       "    </tr>\n",
       "  </thead>\n",
       "  <tbody>\n",
       "    <tr>\n",
       "      <th>5238</th>\n",
       "      <td>0.0</td>\n",
       "      <td>0.238816</td>\n",
       "      <td>0.6250</td>\n",
       "      <td>0.333333</td>\n",
       "      <td>0.366274</td>\n",
       "      <td>0.333333</td>\n",
       "      <td>0.464824</td>\n",
       "      <td>3</td>\n",
       "      <td>0.0</td>\n",
       "      <td>0.0</td>\n",
       "      <td>...</td>\n",
       "      <td>0.0</td>\n",
       "      <td>0.0</td>\n",
       "      <td>0.0</td>\n",
       "      <td>0.0</td>\n",
       "      <td>0.0</td>\n",
       "      <td>0.0</td>\n",
       "      <td>0.0</td>\n",
       "      <td>0.0</td>\n",
       "      <td>0.0</td>\n",
       "      <td>0.0</td>\n",
       "    </tr>\n",
       "    <tr>\n",
       "      <th>376</th>\n",
       "      <td>0.0</td>\n",
       "      <td>0.737883</td>\n",
       "      <td>0.4375</td>\n",
       "      <td>0.666667</td>\n",
       "      <td>0.525839</td>\n",
       "      <td>0.333333</td>\n",
       "      <td>0.567211</td>\n",
       "      <td>3</td>\n",
       "      <td>0.0</td>\n",
       "      <td>0.0</td>\n",
       "      <td>...</td>\n",
       "      <td>0.0</td>\n",
       "      <td>0.0</td>\n",
       "      <td>0.0</td>\n",
       "      <td>0.0</td>\n",
       "      <td>0.0</td>\n",
       "      <td>0.0</td>\n",
       "      <td>0.0</td>\n",
       "      <td>0.0</td>\n",
       "      <td>0.0</td>\n",
       "      <td>0.0</td>\n",
       "    </tr>\n",
       "    <tr>\n",
       "      <th>2615</th>\n",
       "      <td>0.0</td>\n",
       "      <td>0.225494</td>\n",
       "      <td>0.4375</td>\n",
       "      <td>0.333333</td>\n",
       "      <td>0.366274</td>\n",
       "      <td>0.333333</td>\n",
       "      <td>0.609296</td>\n",
       "      <td>0</td>\n",
       "      <td>0.0</td>\n",
       "      <td>0.0</td>\n",
       "      <td>...</td>\n",
       "      <td>0.0</td>\n",
       "      <td>0.0</td>\n",
       "      <td>0.0</td>\n",
       "      <td>0.0</td>\n",
       "      <td>0.0</td>\n",
       "      <td>0.0</td>\n",
       "      <td>0.0</td>\n",
       "      <td>0.0</td>\n",
       "      <td>0.0</td>\n",
       "      <td>0.0</td>\n",
       "    </tr>\n",
       "    <tr>\n",
       "      <th>2406</th>\n",
       "      <td>0.0</td>\n",
       "      <td>0.082037</td>\n",
       "      <td>0.1250</td>\n",
       "      <td>0.333333</td>\n",
       "      <td>0.366274</td>\n",
       "      <td>0.666667</td>\n",
       "      <td>0.332915</td>\n",
       "      <td>2</td>\n",
       "      <td>0.0</td>\n",
       "      <td>0.0</td>\n",
       "      <td>...</td>\n",
       "      <td>0.0</td>\n",
       "      <td>0.0</td>\n",
       "      <td>0.0</td>\n",
       "      <td>0.0</td>\n",
       "      <td>0.0</td>\n",
       "      <td>0.0</td>\n",
       "      <td>0.0</td>\n",
       "      <td>0.0</td>\n",
       "      <td>0.0</td>\n",
       "      <td>0.0</td>\n",
       "    </tr>\n",
       "    <tr>\n",
       "      <th>859</th>\n",
       "      <td>0.0</td>\n",
       "      <td>0.086774</td>\n",
       "      <td>0.3750</td>\n",
       "      <td>0.666667</td>\n",
       "      <td>0.366274</td>\n",
       "      <td>0.000000</td>\n",
       "      <td>0.452261</td>\n",
       "      <td>0</td>\n",
       "      <td>0.0</td>\n",
       "      <td>0.0</td>\n",
       "      <td>...</td>\n",
       "      <td>0.0</td>\n",
       "      <td>0.0</td>\n",
       "      <td>0.0</td>\n",
       "      <td>0.0</td>\n",
       "      <td>0.0</td>\n",
       "      <td>0.0</td>\n",
       "      <td>0.0</td>\n",
       "      <td>0.0</td>\n",
       "      <td>0.0</td>\n",
       "      <td>0.0</td>\n",
       "    </tr>\n",
       "  </tbody>\n",
       "</table>\n",
       "<p>5 rows × 180 columns</p>\n",
       "</div>"
      ],
      "text/plain": [
       "      seats       kms  modelYr   ownerNo  engine_cc   Gearbox   Mileage  \\\n",
       "5238    0.0  0.238816   0.6250  0.333333   0.366274  0.333333  0.464824   \n",
       "376     0.0  0.737883   0.4375  0.666667   0.525839  0.333333  0.567211   \n",
       "2615    0.0  0.225494   0.4375  0.333333   0.366274  0.333333  0.609296   \n",
       "2406    0.0  0.082037   0.1250  0.333333   0.366274  0.666667  0.332915   \n",
       "859     0.0  0.086774   0.3750  0.666667   0.366274  0.000000  0.452261   \n",
       "\n",
       "      bodytype  fueltype_Diesel  fueltype_LPG  ...  model_Toyota Glanza  \\\n",
       "5238         3              0.0           0.0  ...                  0.0   \n",
       "376          3              0.0           0.0  ...                  0.0   \n",
       "2615         0              0.0           0.0  ...                  0.0   \n",
       "2406         2              0.0           0.0  ...                  0.0   \n",
       "859          0              0.0           0.0  ...                  0.0   \n",
       "\n",
       "      model_Toyota Urban cruiser  model_Toyota Yaris  model_Volkswagen Ameo  \\\n",
       "5238                         0.0                 0.0                    0.0   \n",
       "376                          0.0                 0.0                    0.0   \n",
       "2615                         0.0                 0.0                    0.0   \n",
       "2406                         0.0                 0.0                    0.0   \n",
       "859                          0.0                 0.0                    0.0   \n",
       "\n",
       "      model_Volkswagen CrossPolo  model_Volkswagen Jetta  \\\n",
       "5238                         0.0                     0.0   \n",
       "376                          0.0                     0.0   \n",
       "2615                         0.0                     0.0   \n",
       "2406                         0.0                     0.0   \n",
       "859                          0.0                     0.0   \n",
       "\n",
       "      model_Volkswagen Polo  model_Volkswagen Taigun  model_Volkswagen Vento  \\\n",
       "5238                    0.0                      0.0                     0.0   \n",
       "376                     0.0                      0.0                     0.0   \n",
       "2615                    0.0                      0.0                     0.0   \n",
       "2406                    0.0                      0.0                     0.0   \n",
       "859                     0.0                      0.0                     0.0   \n",
       "\n",
       "      model_Volkswagen Virtus  \n",
       "5238                      0.0  \n",
       "376                       0.0  \n",
       "2615                      0.0  \n",
       "2406                      0.0  \n",
       "859                       0.0  \n",
       "\n",
       "[5 rows x 180 columns]"
      ]
     },
     "execution_count": 46,
     "metadata": {},
     "output_type": "execute_result"
    }
   ],
   "source": [
    "X_train.head()"
   ]
  },
  {
   "cell_type": "code",
   "execution_count": null,
   "id": "c52a8944",
   "metadata": {},
   "outputs": [],
   "source": []
  }
 ],
 "metadata": {
  "kernelspec": {
   "display_name": "Python 3",
   "language": "python",
   "name": "python3"
  },
  "language_info": {
   "codemirror_mode": {
    "name": "ipython",
    "version": 3
   },
   "file_extension": ".py",
   "mimetype": "text/x-python",
   "name": "python",
   "nbconvert_exporter": "python",
   "pygments_lexer": "ipython3",
   "version": "3.12.4"
  }
 },
 "nbformat": 4,
 "nbformat_minor": 5
}
